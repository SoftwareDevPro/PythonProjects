{
 "cells": [
  {
   "cell_type": "code",
   "execution_count": 1,
   "metadata": {},
   "outputs": [
    {
     "name": "stdout",
     "output_type": "stream",
     "text": [
      "\n"
     ]
    }
   ],
   "source": [
    "import latexify\n",
    "import math\n",
    "from sympy import *\n",
    "\n",
    "init_session(quiet = True)"
   ]
  },
  {
   "cell_type": "code",
   "execution_count": 2,
   "metadata": {},
   "outputs": [
    {
     "data": {
      "text/latex": [
       "$$ \\displaystyle \\mathrm{solve}(x, y, z) = \\frac{-y + \\sqrt{y^{{3}} - {6} x z}}{{3} \\left( x + y \\right)} $$"
      ],
      "text/plain": [
       "<latexify.frontend.LatexifiedFunction at 0x16218dd9150>"
      ]
     },
     "execution_count": 2,
     "metadata": {},
     "output_type": "execute_result"
    }
   ],
   "source": [
    "@latexify.with_latex\n",
    "def solve(x, y, z):\n",
    "    return (-y + math.sqrt(y ** 3 - 6*x*z)) / (3*(x+y))\n",
    "\n",
    "solve"
   ]
  },
  {
   "cell_type": "code",
   "execution_count": 3,
   "metadata": {},
   "outputs": [
    {
     "data": {
      "text/latex": [
       "$$ \\displaystyle \\mathrm{sinx}(x) = \\left\\{ \\begin{array}{ll} {1}, & \\mathrm{if} \\ {x = {0}} \\\\ \\frac{\\sin{\\left({x}\\right)}}{\\mathrm{x}\\left(\\right)}, & \\mathrm{otherwise} \\end{array} \\right. $$"
      ],
      "text/plain": [
       "<latexify.frontend.LatexifiedFunction at 0x16218dda3b0>"
      ]
     },
     "execution_count": 3,
     "metadata": {},
     "output_type": "execute_result"
    }
   ],
   "source": [
    "@latexify.with_latex\n",
    "def sinx(x):\n",
    "    if x == 0:\n",
    "        return 1\n",
    "    else:\n",
    "        return math.sin(x) / x()\n",
    "\n",
    "sinx"
   ]
  },
  {
   "cell_type": "code",
   "execution_count": 4,
   "metadata": {},
   "outputs": [
    {
     "data": {
      "image/png": "[encoded data removed]",
      "text/latex": [
       "$\\displaystyle \\int \\sin{\\left(x^{2} \\right)}\\, dx$"
      ],
      "text/plain": [
       "⌠           \n",
       "⎮    ⎛ 2⎞   \n",
       "⎮ sin⎝x ⎠ dx\n",
       "⌡           "
      ]
     },
     "execution_count": 4,
     "metadata": {},
     "output_type": "execute_result"
    }
   ],
   "source": [
    "\n",
    "\n",
    "Integral(sin(x**2), x)"
   ]
  },
  {
   "cell_type": "code",
   "execution_count": 5,
   "metadata": {},
   "outputs": [
    {
     "data": {
      "image/png": "[encoded data removed]",
      "text/latex": [
       "$\\displaystyle \\frac{\\partial^{n}}{\\partial x^{n}} \\left(a x + b\\right)^{m}$"
      ],
      "text/plain": [
       "  n            \n",
       " ∂ ⎛         m⎞\n",
       "───⎝(a⋅x + b) ⎠\n",
       "  n            \n",
       "∂x             "
      ]
     },
     "execution_count": 5,
     "metadata": {},
     "output_type": "execute_result"
    }
   ],
   "source": [
    "m, n, a, b = symbols('m n a b')\n",
    "\n",
    "expr = (a*x + b)**m\n",
    "\n",
    "expr.diff((x, n))\n"
   ]
  },
  {
   "cell_type": "code",
   "execution_count": null,
   "metadata": {},
   "outputs": [],
   "source": []
  }
 ],
 "metadata": {
  "kernelspec": {
   "display_name": "Python 3 (ipykernel)",
   "language": "python",
   "name": "python3"
  },
  "language_info": {
   "codemirror_mode": {
    "name": "ipython",
    "version": 3
   },
   "file_extension": ".py",
   "mimetype": "text/x-python",
   "name": "python",
   "nbconvert_exporter": "python",
   "pygments_lexer": "ipython3",
   "version": "3.10.4"
  }
 },
 "nbformat": 4,
 "nbformat_minor": 2
}
